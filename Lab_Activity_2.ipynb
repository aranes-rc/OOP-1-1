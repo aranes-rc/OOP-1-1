{
  "nbformat": 4,
  "nbformat_minor": 0,
  "metadata": {
    "colab": {
      "provenance": [],
      "authorship_tag": "ABX9TyPCVc/2fnCNdgcbvtsPxKii",
      "include_colab_link": true
    },
    "kernelspec": {
      "name": "python3",
      "display_name": "Python 3"
    },
    "language_info": {
      "name": "python"
    }
  },
  "cells": [
    {
      "cell_type": "markdown",
      "metadata": {
        "id": "view-in-github",
        "colab_type": "text"
      },
      "source": [
        "<a href=\"https://colab.research.google.com/github/aranes-rc/OOP-1-1/blob/main/Lab_Activity_2.ipynb\" target=\"_parent\"><img src=\"https://colab.research.google.com/assets/colab-badge.svg\" alt=\"Open In Colab\"/></a>"
      ]
    },
    {
      "cell_type": "code",
      "execution_count": null,
      "metadata": {
        "colab": {
          "base_uri": "https://localhost:8080/"
        },
        "id": "wUVDWG6HHa1R",
        "outputId": "ee6dd200-ab27-4533-8a37-c76ae1dac254"
      },
      "outputs": [
        {
          "output_type": "stream",
          "name": "stdout",
          "text": [
            "Enter your name: Ryrhen Christian Aranes\n",
            "Enter your student number: 02220003715\n",
            "Enter your age: 19\n",
            "Enter your course: Computer Science\n",
            "\n",
            "Name: Ryrhen Christian Aranes\n",
            "Student No.: 02220003715\n",
            "Age: 19\n",
            "Course: Computer Science\n"
          ]
        }
      ],
      "source": [
        "# Number 1\n",
        "name = input(\"Enter your name: \")\n",
        "studentNumber = input(\"Enter your student number: \")\n",
        "age = input(\"Enter your age: \")\n",
        "course = input(\"Enter your course: \")\n",
        "\n",
        "print(f\"\\nName: {name}\")\n",
        "print(f\"Student No.: {studentNumber}\")\n",
        "print(f\"Age: {age}\")\n",
        "print(f\"Course: {course}\")"
      ]
    },
    {
      "cell_type": "code",
      "source": [
        "# Number 2\n",
        "class Student:\n",
        "  name = \"Ryrhen Christian Aranes\"\n",
        "  studentNumber = \"02220003715\"\n",
        "  age = \"19\"\n",
        "  school = \"OLFU\"\n",
        "  course = \"BSCS\""
      ],
      "metadata": {
        "id": "k84FJx7jIdZc"
      },
      "execution_count": null,
      "outputs": []
    },
    {
      "cell_type": "code",
      "source": [
        "# Number 3\n",
        "class Myself:\n",
        "  def __init__(self, name, age, address):\n",
        "    self.name = name\n",
        "    self.age = age\n",
        "    self.address = address\n",
        "\n",
        "me = Myself(\"Rhen\", 19, \"Commonwealth, Quezon City\")\n",
        "print(f\"Name: {me.name}\")\n",
        "print(f\"Age: {me.age}\")\n",
        "print(f\"Address: {me.address}\")"
      ],
      "metadata": {
        "colab": {
          "base_uri": "https://localhost:8080/"
        },
        "id": "7uvz678sJLhV",
        "outputId": "5b87e14a-f3f5-45dd-a58a-5c9438a1a74b"
      },
      "execution_count": null,
      "outputs": [
        {
          "output_type": "stream",
          "name": "stdout",
          "text": [
            "Name: Rhen\n",
            "Age: 19\n",
            "Address: Commonwealth, Quezon City\n"
          ]
        }
      ]
    },
    {
      "cell_type": "code",
      "source": [
        "class Dog:\n",
        "  def bark(self):\n",
        "    print(\"Arf! Arf! Arf!\")\n",
        "  \n",
        "  def growl(self):\n",
        "    print(\"GRRRRRRRRRRRRRRRR!!!!!\")\n",
        "\n",
        "cookie = Dog()\n",
        "# Make Cookie bark\n",
        "cookie.bark()\n",
        "# Make Cookie mad\n",
        "cookie.growl()"
      ],
      "metadata": {
        "colab": {
          "base_uri": "https://localhost:8080/"
        },
        "id": "6KIRIjSMK3wx",
        "outputId": "051e4526-1e81-4b20-a6fb-a7259fa74f93"
      },
      "execution_count": null,
      "outputs": [
        {
          "output_type": "stream",
          "name": "stdout",
          "text": [
            "Arf! Arf! Arf!\n",
            "GRRRRRRRRRRRRRRRR!!!!!\n"
          ]
        }
      ]
    }
  ]
}